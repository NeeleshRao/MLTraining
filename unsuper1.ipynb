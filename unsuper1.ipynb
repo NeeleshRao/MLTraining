{
 "cells": [
  {
   "cell_type": "code",
   "execution_count": 1,
   "id": "4737447f-f55d-40ec-8d5b-5e549fbdfd01",
   "metadata": {},
   "outputs": [],
   "source": [
    "import pandas as pd"
   ]
  },
  {
   "cell_type": "code",
   "execution_count": 3,
   "id": "3115ec4b-b1e2-400e-b3e1-a56aee0627d8",
   "metadata": {},
   "outputs": [],
   "source": [
    "data = pd.read_csv(\"newgroceries.csv\")"
   ]
  },
  {
   "cell_type": "code",
   "execution_count": 4,
   "id": "df3bc7fa-34a3-4d43-846a-2736de06b1c0",
   "metadata": {},
   "outputs": [
    {
     "name": "stdout",
     "output_type": "stream",
     "text": [
      "[[False  True  True ...  True  True  True]\n",
      " [ True False False ...  True False  True]\n",
      " [ True False False ...  True False  True]\n",
      " ...\n",
      " [False False False ... False False False]\n",
      " [False False False ... False False False]\n",
      " [False False False ... False False False]]\n",
      "[' ', '(', ')', '0', '1', '2', '3', '4', '5', '6', '7', '8', '9', 'I', 'e', 'm', 's', 't']\n",
      "                 (      )      0      1      2      3      4      5      6  \\\n",
      "0     False   True   True  False  False  False  False  False  False  False   \n",
      "1      True  False  False  False   True  False  False  False  False  False   \n",
      "2      True  False  False  False  False   True  False  False  False  False   \n",
      "3      True  False  False  False  False  False   True  False  False  False   \n",
      "4      True  False  False  False  False  False  False   True  False  False   \n",
      "...     ...    ...    ...    ...    ...    ...    ...    ...    ...    ...   \n",
      "9830  False  False  False  False  False  False  False  False  False  False   \n",
      "9831  False  False  False  False  False  False  False  False  False  False   \n",
      "9832  False  False  False  False  False  False  False  False  False  False   \n",
      "9833  False  False  False  False  False  False  False  False  False  False   \n",
      "9834  False  False  False  False  False  False  False  False  False  False   \n",
      "\n",
      "          7      8      9      I      e      m      s      t  \n",
      "0     False  False  False   True   True   True   True   True  \n",
      "1     False  False  False   True   True   True  False   True  \n",
      "2     False  False  False   True   True   True  False   True  \n",
      "3     False  False  False   True   True   True  False   True  \n",
      "4     False  False  False   True   True   True  False   True  \n",
      "...     ...    ...    ...    ...    ...    ...    ...    ...  \n",
      "9830  False  False  False  False  False  False  False  False  \n",
      "9831  False  False  False  False  False  False  False  False  \n",
      "9832  False  False  False  False  False  False  False  False  \n",
      "9833  False  False  False  False  False  False  False  False  \n",
      "9834  False  False  False  False  False  False  False  False  \n",
      "\n",
      "[9835 rows x 18 columns]\n",
      "Empty DataFrame\n",
      "Columns: [support, itemsets, length]\n",
      "Index: []\n",
      "Empty DataFrame\n",
      "Columns: [support, itemsets, length]\n",
      "Index: []\n"
     ]
    }
   ],
   "source": [
    "from mlxtend.preprocessing import TransactionEncoder\n",
    "import pandas as pd\n",
    "from mlxtend.frequent_patterns import apriori\n",
    "\n",
    "# data = [['milk', 'onion', 'nutmeg', 'kidney beans', 'eggs', 'yogurt'],\n",
    "#         ['dill', 'onion', 'nutmeg', 'kidney beans', 'eggs', 'yogurt'],\n",
    "#         ['milk', 'apple', 'kidney beans', 'eggs'],\n",
    "#         ['milk', 'unicorn', 'corn', 'kidney beans', 'yogurt'],\n",
    "#         ['corn', 'onion', 'onion', 'kidney beans', 'ice cream', 'eggs']]\n",
    "\n",
    "trans = TransactionEncoder()\n",
    "trans_array = trans.fit(data).transform(data)\n",
    "print(trans_array)\n",
    "print(trans.columns_)\n",
    "df = pd.DataFrame(trans_array, columns=trans.columns_)\n",
    "print(df)\n",
    "\n",
    "frequent_data = apriori(df, min_support=0.6, use_colnames=trans.columns_)\n",
    "frequent_data['length'] = frequent_data['itemsets'].apply(lambda x: len(x))\n",
    "print(frequent_data)\n",
    "\n",
    "print(frequent_data[(frequent_data['support'] > 0.6) \\\n",
    "                    & (frequent_data['length'] == 2)])"
   ]
  },
  {
   "cell_type": "code",
   "execution_count": null,
   "id": "ab431c25-bb68-42c3-96d0-73ab9fbb4c51",
   "metadata": {},
   "outputs": [],
   "source": []
  }
 ],
 "metadata": {
  "kernelspec": {
   "display_name": "Python 3 (ipykernel)",
   "language": "python",
   "name": "python3"
  },
  "language_info": {
   "codemirror_mode": {
    "name": "ipython",
    "version": 3
   },
   "file_extension": ".py",
   "mimetype": "text/x-python",
   "name": "python",
   "nbconvert_exporter": "python",
   "pygments_lexer": "ipython3",
   "version": "3.8.16"
  }
 },
 "nbformat": 4,
 "nbformat_minor": 5
}
