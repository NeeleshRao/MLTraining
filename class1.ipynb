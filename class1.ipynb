{
 "cells": [
  {
   "cell_type": "code",
   "execution_count": 1,
   "id": "7f2e7c0f-0329-4664-b154-3f19aaf498e4",
   "metadata": {},
   "outputs": [
    {
     "name": "stdout",
     "output_type": "stream",
     "text": [
      "Hello, world!\n"
     ]
    }
   ],
   "source": [
    "print(\"Hello, world!\")"
   ]
  },
  {
   "cell_type": "code",
   "execution_count": 2,
   "id": "2c069a55-f709-429a-955b-db54765f402d",
   "metadata": {},
   "outputs": [
    {
     "name": "stdout",
     "output_type": "stream",
     "text": [
      "5\n"
     ]
    }
   ],
   "source": [
    "a = 2\n",
    "b = 3\n",
    "print(a + b)"
   ]
  },
  {
   "cell_type": "code",
   "execution_count": 9,
   "id": "d7a480a4-8644-4796-b06d-2da0efd62695",
   "metadata": {},
   "outputs": [
    {
     "name": "stdin",
     "output_type": "stream",
     "text": [
      " 12\n"
     ]
    },
    {
     "name": "stdout",
     "output_type": "stream",
     "text": [
      "12 144 441 21\n"
     ]
    }
   ],
   "source": [
    "n = int(input())\n",
    "# print(n)\n",
    "sq = n**2\n",
    "temp = int(sq)\n",
    "rev_sq = 0\n",
    "while sq > 0:\n",
    "    r = sq%10\n",
    "    rev_sq = 10*rev_sq + r\n",
    "    sq //= 10\n",
    "# print(rev_sq)\n",
    "rev_sq_root = int((rev_sq)**(0.5))\n",
    "print(n, temp, rev_sq, rev_sq_root)"
   ]
  },
  {
   "cell_type": "code",
   "execution_count": null,
   "id": "55572494-800e-429f-a547-52a23bd3f06c",
   "metadata": {},
   "outputs": [],
   "source": []
  }
 ],
 "metadata": {
  "kernelspec": {
   "display_name": "Python 3 (ipykernel)",
   "language": "python",
   "name": "python3"
  },
  "language_info": {
   "codemirror_mode": {
    "name": "ipython",
    "version": 3
   },
   "file_extension": ".py",
   "mimetype": "text/x-python",
   "name": "python",
   "nbconvert_exporter": "python",
   "pygments_lexer": "ipython3",
   "version": "3.8.16"
  }
 },
 "nbformat": 4,
 "nbformat_minor": 5
}
