{
 "cells": [
  {
   "cell_type": "code",
   "execution_count": 1,
   "id": "aaf91843-e764-4449-97a4-3306d84b36a4",
   "metadata": {},
   "outputs": [],
   "source": [
    "import pandas as pd\n",
    "from sklearn.metrics import accuracy_score\n",
    "from sklearn.model_selection import train_test_split\n",
    "from sklearn.ensemble import RandomForestClassifier\n",
    "from sklearn.naive_bayes import GaussianNB\n",
    "from sklearn.tree import DecisionTreeClassifier\n",
    "from sklearn.neighbors import KNeighborsClassifier\n",
    "from sklearn.svm import SVC"
   ]
  },
  {
   "cell_type": "code",
   "execution_count": 2,
   "id": "fef48a01-318d-4614-ba8a-d7a06ae6b98b",
   "metadata": {},
   "outputs": [
    {
     "name": "stdout",
     "output_type": "stream",
     "text": [
      "<class 'pandas.core.frame.DataFrame'>\n",
      "RangeIndex: 3168 entries, 0 to 3167\n",
      "Data columns (total 21 columns):\n",
      " #   Column    Non-Null Count  Dtype  \n",
      "---  ------    --------------  -----  \n",
      " 0   meanfreq  3168 non-null   float64\n",
      " 1   sd        3168 non-null   float64\n",
      " 2   median    3168 non-null   float64\n",
      " 3   Q25       3168 non-null   float64\n",
      " 4   Q75       3168 non-null   float64\n",
      " 5   IQR       3168 non-null   float64\n",
      " 6   skew      3168 non-null   float64\n",
      " 7   kurt      3168 non-null   float64\n",
      " 8   sp.ent    3168 non-null   float64\n",
      " 9   sfm       3168 non-null   float64\n",
      " 10  mode      3168 non-null   float64\n",
      " 11  centroid  3168 non-null   float64\n",
      " 12  meanfun   3168 non-null   float64\n",
      " 13  minfun    3168 non-null   float64\n",
      " 14  maxfun    3168 non-null   float64\n",
      " 15  meandom   3168 non-null   float64\n",
      " 16  mindom    3168 non-null   float64\n",
      " 17  maxdom    3168 non-null   float64\n",
      " 18  dfrange   3168 non-null   float64\n",
      " 19  modindx   3168 non-null   float64\n",
      " 20  label     3168 non-null   object \n",
      "dtypes: float64(20), object(1)\n",
      "memory usage: 519.9+ KB\n",
      "None\n"
     ]
    }
   ],
   "source": [
    "data = pd.read_csv(\"voice.csv\")\n",
    "print(data.info())\n"
   ]
  },
  {
   "cell_type": "code",
   "execution_count": 3,
   "id": "e9307307-be0e-47b4-ab83-61c27058c928",
   "metadata": {},
   "outputs": [],
   "source": [
    "Y = data[\"label\"]\n",
    "X = data.drop(\"label\", axis=1)\n",
    "X_train, X_test, y_train, y_test = train_test_split(X, Y, test_size=0.2)"
   ]
  },
  {
   "cell_type": "code",
   "execution_count": 5,
   "id": "b03172e8-238e-40cd-969f-d988590f254a",
   "metadata": {},
   "outputs": [
    {
     "name": "stdout",
     "output_type": "stream",
     "text": [
      "72.2397476340694\n"
     ]
    }
   ],
   "source": [
    "# 1. KNN\n",
    "knn = KNeighborsClassifier()\n",
    "knn.fit(X_train, y_train)\n",
    "out1 = knn.predict(X_test)\n",
    "acc1 = accuracy_score(y_test, out1)*100\n",
    "print(acc1)\n"
   ]
  },
  {
   "cell_type": "code",
   "execution_count": 6,
   "id": "680e10c5-19ab-4403-abe6-1b21642b5a22",
   "metadata": {},
   "outputs": [
    {
     "name": "stdout",
     "output_type": "stream",
     "text": [
      "67.19242902208202\n"
     ]
    }
   ],
   "source": [
    "# 2. svm\n",
    "svm = SVC()\n",
    "svm.fit(X_train, y_train)\n",
    "out2 = svm.predict(X_test)\n",
    "acc2 = accuracy_score(y_test, out2)*100\n",
    "print(acc2)"
   ]
  },
  {
   "cell_type": "code",
   "execution_count": 8,
   "id": "b4fd0530-ade4-4a85-9a7f-3ea5aae01be4",
   "metadata": {},
   "outputs": [
    {
     "name": "stdout",
     "output_type": "stream",
     "text": [
      "87.38170347003155\n"
     ]
    }
   ],
   "source": [
    "# 3. naive bayes\n",
    "nb = GaussianNB()\n",
    "nb.fit(X_train, y_train)\n",
    "\n",
    "out3 = nb.predict(X_test)\n",
    "acc3 = accuracy_score(y_test, out3)*100\n",
    "print(acc3)"
   ]
  },
  {
   "cell_type": "code",
   "execution_count": 10,
   "id": "cfc68def-6673-405f-82be-51e43915e10e",
   "metadata": {},
   "outputs": [
    {
     "name": "stdout",
     "output_type": "stream",
     "text": [
      "97.63406940063092\n"
     ]
    }
   ],
   "source": [
    "# 4. decision tree\n",
    "dt = DecisionTreeClassifier()\n",
    "dt.fit(X_train, y_train)\n",
    "out4 = dt.predict(X_test)\n",
    "acc4 = accuracy_score(y_test, out4)*100\n",
    "print(acc4)"
   ]
  },
  {
   "cell_type": "code",
   "execution_count": 11,
   "id": "1dd18ab1-840c-4436-9fe1-28b626e0264b",
   "metadata": {},
   "outputs": [
    {
     "name": "stdout",
     "output_type": "stream",
     "text": [
      "98.42271293375394\n"
     ]
    }
   ],
   "source": [
    "# 5. random forest\n",
    "rfc = RandomForestClassifier(n_estimators=150)\n",
    "rfc.fit(X_train, y_train)\n",
    "out5 = rfc.predict(X_test)\n",
    "acc5 = accuracy_score(y_test, out5)*100\n",
    "print(acc5)"
   ]
  },
  {
   "cell_type": "code",
   "execution_count": 13,
   "id": "c509406d-234e-42a2-9048-7734473435c5",
   "metadata": {},
   "outputs": [],
   "source": [
    "import matplotlib.pyplot as plt"
   ]
  },
  {
   "cell_type": "code",
   "execution_count": 15,
   "id": "8893e99b-0390-4344-9786-7bee0f7a8b56",
   "metadata": {},
   "outputs": [
    {
     "data": {
      "image/png": "[encoded data removed]",
      "text/plain": [
       "<Figure size 640x480 with 1 Axes>"
      ]
     },
     "metadata": {},
     "output_type": "display_data"
    }
   ],
   "source": [
    "plt.hist([\"KNN\", \"SVM\", \"Naivebayes\", \"DecisionTree\", \"RandomForest\"], weights = [acc1, acc2, acc3, acc4, acc5])\n",
    "plt.show()"
   ]
  },
  {
   "cell_type": "code",
   "execution_count": null,
   "id": "23405c60-c649-437d-b10b-78ce9e44068d",
   "metadata": {},
   "outputs": [],
   "source": []
  }
 ],
 "metadata": {
  "kernelspec": {
   "display_name": "Python 3 (ipykernel)",
   "language": "python",
   "name": "python3"
  },
  "language_info": {
   "codemirror_mode": {
    "name": "ipython",
    "version": 3
   },
   "file_extension": ".py",
   "mimetype": "text/x-python",
   "name": "python",
   "nbconvert_exporter": "python",
   "pygments_lexer": "ipython3",
   "version": "3.8.16"
  }
 },
 "nbformat": 4,
 "nbformat_minor": 5
}
