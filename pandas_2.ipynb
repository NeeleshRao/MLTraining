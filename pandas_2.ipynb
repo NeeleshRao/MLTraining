{
 "cells": [
  {
   "cell_type": "code",
   "execution_count": 2,
   "id": "c92e5b0b-3a25-4630-8894-86980be448e0",
   "metadata": {},
   "outputs": [],
   "source": [
    "import pandas as pd\n",
    "import numpy as np"
   ]
  },
  {
   "cell_type": "code",
   "execution_count": 3,
   "id": "72ce0246-bf8c-4ad1-aa5f-b7e48456f0e1",
   "metadata": {},
   "outputs": [
    {
     "name": "stdout",
     "output_type": "stream",
     "text": [
      "(3755, 11)\n"
     ]
    }
   ],
   "source": [
    "data = pd.read_csv(\"ds_salaries.csv\")\n",
    "print(data.shape)"
   ]
  },
  {
   "cell_type": "code",
   "execution_count": 4,
   "id": "dcfddc43-55f7-4138-843b-c42aff78ef22",
   "metadata": {},
   "outputs": [
    {
     "name": "stdout",
     "output_type": "stream",
     "text": [
      "<class 'pandas.core.frame.DataFrame'>\n",
      "RangeIndex: 3755 entries, 0 to 3754\n",
      "Data columns (total 11 columns):\n",
      " #   Column              Non-Null Count  Dtype \n",
      "---  ------              --------------  ----- \n",
      " 0   work_year           3755 non-null   int64 \n",
      " 1   experience_level    3755 non-null   object\n",
      " 2   employment_type     3755 non-null   object\n",
      " 3   job_title           3755 non-null   object\n",
      " 4   salary              3755 non-null   int64 \n",
      " 5   salary_currency     3755 non-null   object\n",
      " 6   salary_in_usd       3755 non-null   int64 \n",
      " 7   employee_residence  3755 non-null   object\n",
      " 8   remote_ratio        3755 non-null   int64 \n",
      " 9   company_location    3755 non-null   object\n",
      " 10  company_size        3755 non-null   object\n",
      "dtypes: int64(4), object(7)\n",
      "memory usage: 322.8+ KB\n",
      "None\n"
     ]
    }
   ],
   "source": [
    "print(data.info())"
   ]
  },
  {
   "cell_type": "code",
   "execution_count": 19,
   "id": "57f81994-cbad-460a-8bfc-f2f0a49e2dab",
   "metadata": {},
   "outputs": [
    {
     "name": "stdout",
     "output_type": "stream",
     "text": [
      "   work_year  salary  salary_in_usd  remote_ratio\n",
      "0       2023   80000          85847           100\n",
      "1       2023   30000          30000           100\n",
      "2       2023   25500          25500           100\n",
      "3       2023  175000         175000           100\n",
      "4       2023  120000         120000           100\n",
      "[[  2023  80000  85847    100]\n",
      " [  2023  30000  30000    100]\n",
      " [  2023  25500  25500    100]\n",
      " [  2023 175000 175000    100]\n",
      " [  2023 120000 120000    100]]\n"
     ]
    }
   ],
   "source": [
    "# to print first 5 rows\n",
    "print(data.head())\n",
    "print(data.head().to_numpy())"
   ]
  },
  {
   "cell_type": "code",
   "execution_count": 20,
   "id": "3b9b6927-bd7a-46f9-8c38-f4921b1a2406",
   "metadata": {},
   "outputs": [
    {
     "name": "stdout",
     "output_type": "stream",
     "text": [
      "(10, 4)\n",
      "   work_year  salary  salary_in_usd  remote_ratio\n",
      "0       2023   80000          85847           100\n",
      "1       2023   30000          30000           100\n",
      "2       2023   25500          25500           100\n",
      "3       2023  175000         175000           100\n",
      "4       2023  120000         120000           100\n",
      "5       2023  222200         222200             0\n",
      "6       2023  136000         136000             0\n",
      "7       2023  219000         219000             0\n",
      "8       2023  141000         141000             0\n",
      "9       2023  147100         147100             0\n"
     ]
    }
   ],
   "source": [
    "# to obtain a part of the data initially\n",
    "# , index_col='work_year'\n",
    "# skiprows=[3, 4, 5] or skiprows=range(3, 6)\n",
    "# na_values\n",
    "# na_filter can be used to handle NaN(Null) values, set to false to replace them to empty string\n",
    "data = pd.read_csv(\"ds_salaries.csv\", nrows=10, usecols=['work_year', 'salary', 'salary_in_usd', 'remote_ratio'])\n",
    "print(data.shape)\n",
    "print(data)"
   ]
  },
  {
   "cell_type": "code",
   "execution_count": 21,
   "id": "b067200b-dc1c-4a27-bc2d-5e28625da354",
   "metadata": {},
   "outputs": [],
   "source": [
    "# to handle NaN values\n",
    "# data.drop_na(axis=0, inplace=True)\n",
    "#axis=0 is rowwise removing, the inplace will update the data as well\n",
    "\n",
    "#to replace the Nan with a suitable value, we can use apply\n",
    "# data['salary'] = data['salary'].apply(lambda x: data['salary'].mean if np.isnan(x) else x )"
   ]
  },
  {
   "cell_type": "code",
   "execution_count": 22,
   "id": "08c6db1a-5575-4ca6-bf03-8443432dbe41",
   "metadata": {},
   "outputs": [],
   "source": [
    "# Another way to handle nan\n",
    "data['salary'].fillna(data['salary'].mean, inplace=True)\n",
    "#or\n",
    "data['salary'].fillna(data['salary'].mean, inplace=True)"
   ]
  },
  {
   "cell_type": "code",
   "execution_count": 24,
   "id": "c74da03f-acd2-498c-b2b9-258944062cad",
   "metadata": {},
   "outputs": [],
   "source": [
    "data.to_excel(\"processed_data.xlsx\", sheet_name=\"filled-values\")"
   ]
  },
  {
   "cell_type": "code",
   "execution_count": 25,
   "id": "4be201b2-089a-4e04-91a8-b9f1a3d2e898",
   "metadata": {},
   "outputs": [],
   "source": [
    "# to merge 2 dataframes\n",
    "#df1.merge(df2, 'inner')\n",
    "#data.drop('remote_ratio', axis=1, inplace=True) we have to set axis=1 as we want to delete column not row\n"
   ]
  },
  {
   "cell_type": "code",
   "execution_count": 44,
   "id": "ad51aba3-d954-4c60-9782-5914772ae154",
   "metadata": {},
   "outputs": [],
   "source": [
    "#task\n",
    "\n",
    "df1 = pd.DataFrame([[1, 2, 3], \n",
    "                   [4, np.nan, 6], \n",
    "                   [7, 8, 9], \n",
    "                   [10, 11, np.nan], \n",
    "                   [13, 14, 15], \n",
    "                  [np.nan, 17, 18]], columns=['a', 'b', 'c'])\n",
    "\n",
    "df2 = pd.DataFrame([[11, 12, 13], \n",
    "                   [14, np.nan, 16], \n",
    "                   [17, 18, 19], \n",
    "                   [100, 110, np.nan], \n",
    "                   [113, 114, 115], \n",
    "                  [np.nan, 117, 118]], columns=['a', 'b', 'g'])\n",
    "\n",
    "df1.fillna(df1.median(), inplace=True)\n",
    "df2.fillna(df2.median(), inplace=True)\n",
    "\n",
    "final = df1.merge(df2, 'cross')\n",
    "final.to_excel('task_excel.xlsx', index=False)\n",
    "# print(df2)"
   ]
  },
  {
   "cell_type": "code",
   "execution_count": 41,
   "id": "d4d89f7b-82a6-45c7-adef-2b063aeb5af2",
   "metadata": {},
   "outputs": [
    {
     "name": "stdout",
     "output_type": "stream",
     "text": [
      "      a     b     c\n",
      "0   1.0   2.0   3.0\n",
      "1   4.0  11.0   6.0\n",
      "2   7.0   8.0   9.0\n",
      "3  10.0  11.0   9.0\n",
      "4  13.0  14.0  15.0\n",
      "5   7.0  17.0  18.0\n",
      "       a      b      g\n",
      "0   11.0   12.0   13.0\n",
      "1   14.0  110.0   16.0\n",
      "2   17.0   18.0   19.0\n",
      "3  100.0  110.0   19.0\n",
      "4  113.0  114.0  115.0\n",
      "5   17.0  117.0  118.0\n"
     ]
    }
   ],
   "source": [
    "df1.fillna(df1.median(), inplace=True)\n",
    "df2.fillna(df2.median(), inplace=True)\n",
    "print(df1)\n",
    "print(df2)"
   ]
  },
  {
   "cell_type": "code",
   "execution_count": 43,
   "id": "29789f4f-6826-4894-b2ed-44fcf09a0f2a",
   "metadata": {},
   "outputs": [],
   "source": [
    "final = df1.merge(df2, 'cross')\n",
    "final.to_excel('task_excel.xlsx', index=False)"
   ]
  },
  {
   "cell_type": "code",
   "execution_count": null,
   "id": "fdf60b20-da0d-41b1-8173-3cf0d15a77fb",
   "metadata": {},
   "outputs": [],
   "source": []
  }
 ],
 "metadata": {
  "kernelspec": {
   "display_name": "Python 3 (ipykernel)",
   "language": "python",
   "name": "python3"
  },
  "language_info": {
   "codemirror_mode": {
    "name": "ipython",
    "version": 3
   },
   "file_extension": ".py",
   "mimetype": "text/x-python",
   "name": "python",
   "nbconvert_exporter": "python",
   "pygments_lexer": "ipython3",
   "version": "3.8.16"
  }
 },
 "nbformat": 4,
 "nbformat_minor": 5
}
