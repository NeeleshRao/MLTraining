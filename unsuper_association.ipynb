{
 "cells": [
  {
   "cell_type": "code",
   "execution_count": 6,
   "id": "89a41960-0b67-48b4-8d30-337516a8db87",
   "metadata": {},
   "outputs": [
    {
     "name": "stdout",
     "output_type": "stream",
     "text": [
      "[[False False False  True False  True  True  True  True False  True]\n",
      " [False False  True  True False  True False  True  True False  True]\n",
      " [ True False False  True False  True  True False False False False]\n",
      " [False  True False False False  True  True False False  True  True]\n",
      " [False  True False  True  True  True False False  True False False]]\n",
      "['apple', 'corn', 'dill', 'eggs', 'ice cream', 'kidney beans', 'milk', 'nutmeg', 'onion', 'unicorn', 'yogurt']\n",
      "   apple   corn   dill   eggs  ice cream  kidney beans   milk  nutmeg  onion  \\\n",
      "0  False  False  False   True      False          True   True    True   True   \n",
      "1  False  False   True   True      False          True  False    True   True   \n",
      "2   True  False  False   True      False          True   True   False  False   \n",
      "3  False   True  False  False      False          True   True   False  False   \n",
      "4  False   True  False   True       True          True  False   False   True   \n",
      "\n",
      "   unicorn  yogurt  \n",
      "0    False    True  \n",
      "1    False    True  \n",
      "2    False   False  \n",
      "3     True    True  \n",
      "4    False   False  \n",
      "    support                     itemsets  length\n",
      "0       0.8                       (eggs)       1\n",
      "1       1.0               (kidney beans)       1\n",
      "2       0.6                       (milk)       1\n",
      "3       0.6                      (onion)       1\n",
      "4       0.6                     (yogurt)       1\n",
      "5       0.8         (kidney beans, eggs)       2\n",
      "6       0.6                (onion, eggs)       2\n",
      "7       0.6         (milk, kidney beans)       2\n",
      "8       0.6        (onion, kidney beans)       2\n",
      "9       0.6       (yogurt, kidney beans)       2\n",
      "10      0.6  (onion, kidney beans, eggs)       3\n",
      "   support              itemsets  length\n",
      "5      0.8  (kidney beans, eggs)       2\n"
     ]
    }
   ],
   "source": [
    "from mlxtend.preprocessing import TransactionEncoder\n",
    "import pandas as pd\n",
    "from mlxtend.frequent_patterns import apriori\n",
    "\n",
    "data = [['milk', 'onion', 'nutmeg', 'kidney beans', 'eggs', 'yogurt'],\n",
    "        ['dill', 'onion', 'nutmeg', 'kidney beans', 'eggs', 'yogurt'],\n",
    "        ['milk', 'apple', 'kidney beans', 'eggs'],\n",
    "        ['milk', 'unicorn', 'corn', 'kidney beans', 'yogurt'],\n",
    "        ['corn', 'onion', 'onion', 'kidney beans', 'ice cream', 'eggs']]\n",
    "\n",
    "trans = TransactionEncoder()\n",
    "trans_array = trans.fit(data).transform(data)\n",
    "print(trans_array)\n",
    "print(trans.columns_)\n",
    "df = pd.DataFrame(trans_array, columns=trans.columns_)\n",
    "print(df)\n",
    "\n",
    "frequent_data = apriori(df, min_support=0.6, use_colnames=trans.columns_)\n",
    "frequent_data['length'] = frequent_data['itemsets'].apply(lambda x: len(x))\n",
    "print(frequent_data)\n",
    "\n",
    "print(frequent_data[(frequent_data['support'] > 0.6) \\\n",
    "                    & (frequent_data['length'] == 2)])"
   ]
  },
  {
   "cell_type": "code",
   "execution_count": 5,
   "id": "89369547-e236-4dfb-8697-2646b6e4b0e2",
   "metadata": {},
   "outputs": [],
   "source": []
  },
  {
   "cell_type": "code",
   "execution_count": null,
   "id": "121cf220-9596-4cbf-bd5a-b4a88a37902e",
   "metadata": {},
   "outputs": [],
   "source": []
  }
 ],
 "metadata": {
  "kernelspec": {
   "display_name": "Python 3 (ipykernel)",
   "language": "python",
   "name": "python3"
  },
  "language_info": {
   "codemirror_mode": {
    "name": "ipython",
    "version": 3
   },
   "file_extension": ".py",
   "mimetype": "text/x-python",
   "name": "python",
   "nbconvert_exporter": "python",
   "pygments_lexer": "ipython3",
   "version": "3.8.16"
  }
 },
 "nbformat": 4,
 "nbformat_minor": 5
}
