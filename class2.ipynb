{
 "cells": [
  {
   "cell_type": "code",
   "execution_count": 2,
   "id": "c36790a6-82cd-405c-97ad-14980c9e73cd",
   "metadata": {},
   "outputs": [
    {
     "name": "stdin",
     "output_type": "stream",
     "text": [
      " 2\n"
     ]
    },
    {
     "name": "stdout",
     "output_type": "stream",
     "text": [
      "2 is Even\n"
     ]
    }
   ],
   "source": [
    "# even or odd\n",
    "n = int(input())\n",
    "\n",
    "if n % 2 == 0:\n",
    "    print(f\"{n} is Even\")\n",
    "else:\n",
    "    print(f\"{n} is Odd\")"
   ]
  },
  {
   "cell_type": "code",
   "execution_count": 6,
   "id": "acda23cf-8f1e-49cd-8d94-e63b141b43f5",
   "metadata": {},
   "outputs": [
    {
     "name": "stdin",
     "output_type": "stream",
     "text": [
      " 10 3 2\n"
     ]
    },
    {
     "name": "stdout",
     "output_type": "stream",
     "text": [
      "10\n"
     ]
    }
   ],
   "source": [
    "#max of 3 numbers\n",
    "a, b, c = map(int, input().split())\n",
    "# print(max(a, b, c))\n",
    "if a > b and a > c:\n",
    "    print(a)\n",
    "elif b > a and b > c:\n",
    "    print(b)\n",
    "else:\n",
    "    print(c)"
   ]
  },
  {
   "cell_type": "code",
   "execution_count": 12,
   "id": "863b348e-35b4-4ce5-bd5e-d5325cee1688",
   "metadata": {},
   "outputs": [
    {
     "name": "stdin",
     "output_type": "stream",
     "text": [
      "Enter 1-12 : 5\n"
     ]
    },
    {
     "name": "stdout",
     "output_type": "stream",
     "text": [
      "may\n"
     ]
    }
   ],
   "source": [
    "month = \"janfebmaraprmayjunjulaugsepoctnovdec\"\n",
    "\n",
    "n = int(input(\"Enter 1-12 :\"))\n",
    "print(month[(n-1)*3:(n-1)*3+3])\n"
   ]
  },
  {
   "cell_type": "code",
   "execution_count": 14,
   "id": "ffb5a5fc-fe44-4b17-bca4-1bdb268e5a49",
   "metadata": {},
   "outputs": [
    {
     "name": "stdin",
     "output_type": "stream",
     "text": [
      "Enter username :  neel\n",
      "Enter password :  lala\n"
     ]
    },
    {
     "name": "stdout",
     "output_type": "stream",
     "text": [
      "Welcome new user ! \n"
     ]
    },
    {
     "name": "stdin",
     "output_type": "stream",
     "text": [
      "Enter ur username :  neel\n",
      "Enter ur password :  lalu\n"
     ]
    },
    {
     "name": "stdout",
     "output_type": "stream",
     "text": [
      "Incorrect password!\n"
     ]
    }
   ],
   "source": [
    "username = input(\"Enter username : \")\n",
    "passw = input(\"Enter password : \")\n",
    "\n",
    "print(\"Welcome new user ! \")\n",
    "\n",
    "user = input(\"Enter ur username : \")\n",
    "passs = input(\"Enter ur password : \")\n",
    "\n",
    "if user == username and passs == passw:\n",
    "    print(\"Login!\")\n",
    "elif user != username:\n",
    "    print(\"User doesn't exist!\")\n",
    "elif user == username and passs != passw:\n",
    "    print(\"Incorrect password!\")\n",
    "    \n"
   ]
  },
  {
   "cell_type": "code",
   "execution_count": 15,
   "id": "56ec01fd-5bd4-413b-8ed4-4eaa31f42ea7",
   "metadata": {},
   "outputs": [
    {
     "name": "stdin",
     "output_type": "stream",
     "text": [
      "Enter no. of entries 2\n",
      " 4 2 3\n"
     ]
    },
    {
     "name": "stdout",
     "output_type": "stream",
     "text": [
      "4\n"
     ]
    },
    {
     "name": "stdin",
     "output_type": "stream",
     "text": [
      " 79 63 230\n"
     ]
    },
    {
     "name": "stdout",
     "output_type": "stream",
     "text": [
      "230\n"
     ]
    }
   ],
   "source": [
    "#max of 3 numbers\n",
    "\n",
    "n = int(input(\"Enter no. of entries\"))\n",
    "for i in range(n):\n",
    "    print(max(list(map(int, input().split()))))"
   ]
  },
  {
   "cell_type": "code",
   "execution_count": 16,
   "id": "e7011848-cae0-4c0c-82b2-dde09ad37f21",
   "metadata": {},
   "outputs": [
    {
     "name": "stdin",
     "output_type": "stream",
     "text": [
      "Enter no. of Entries:  5\n",
      "Enter number :  11\n"
     ]
    },
    {
     "name": "stdout",
     "output_type": "stream",
     "text": [
      "11 is a prime!\n"
     ]
    },
    {
     "name": "stdin",
     "output_type": "stream",
     "text": [
      "Enter number :  12\n"
     ]
    },
    {
     "name": "stdout",
     "output_type": "stream",
     "text": [
      "12 is not prime!\n"
     ]
    },
    {
     "name": "stdin",
     "output_type": "stream",
     "text": [
      "Enter number :  13\n"
     ]
    },
    {
     "name": "stdout",
     "output_type": "stream",
     "text": [
      "13 is a prime!\n"
     ]
    },
    {
     "name": "stdin",
     "output_type": "stream",
     "text": [
      "Enter number :  17\n"
     ]
    },
    {
     "name": "stdout",
     "output_type": "stream",
     "text": [
      "17 is a prime!\n"
     ]
    },
    {
     "name": "stdin",
     "output_type": "stream",
     "text": [
      "Enter number :  2\n"
     ]
    },
    {
     "name": "stdout",
     "output_type": "stream",
     "text": [
      "2 is a prime!\n"
     ]
    }
   ],
   "source": [
    "#prime numbers\n",
    "\n",
    "n = int(input(\"Enter no. of Entries: \"))\n",
    "for i in range(n):\n",
    "    num = int(input(\"Enter number : \"))\n",
    "    flag = False\n",
    "    for i in range(2, num//2 + 1):\n",
    "        if num % i == 0:\n",
    "            print(f\"{num} is not prime!\")\n",
    "            flag = True\n",
    "            break\n",
    "    \n",
    "    if flag == False:\n",
    "        print(f\"{num} is a prime!\")\n",
    "        "
   ]
  },
  {
   "cell_type": "code",
   "execution_count": 17,
   "id": "783626e3-bc25-4618-b532-03f33fbf44b6",
   "metadata": {},
   "outputs": [],
   "source": [
    "import numpy as np\n"
   ]
  },
  {
   "cell_type": "code",
   "execution_count": 2,
   "id": "8f582d14-918d-4920-9b6d-ddae89064872",
   "metadata": {},
   "outputs": [
    {
     "name": "stdin",
     "output_type": "stream",
     "text": [
      " 300\n"
     ]
    },
    {
     "name": "stdout",
     "output_type": "stream",
     "text": [
      "['0', '1', '2', '3', '4', '5', '6', '7', '8', '9', '11', '22', '33', '44', '55', '66', '77', '88', '99', '101', '111', '121', '131', '141', '151', '161', '171', '181', '191', '202', '212', '222', '232', '242', '252', '262', '272', '282', '292']\n"
     ]
    }
   ],
   "source": [
    "n = int(input())\n",
    "lis = []\n",
    "\n",
    "for i in range(0, n):\n",
    "    if str(i) == str(i)[::-1]:\n",
    "        lis.append(str(i))\n",
    "\n",
    "print(lis)\n",
    "        "
   ]
  },
  {
   "cell_type": "code",
   "execution_count": 4,
   "id": "67434ab2-b584-4ee9-99ab-86f8927af51d",
   "metadata": {},
   "outputs": [
    {
     "name": "stdout",
     "output_type": "stream",
     "text": [
      "The key is a and the values is 1\n",
      "The key is b and the values is 2\n",
      "The key is c and the values is 3\n",
      "The key is d and the values is 4\n",
      "The key is e and the values is 5\n"
     ]
    }
   ],
   "source": [
    "dict = {'a':1, 'b':2, 'c':3, 'd':4, 'e':5}\n",
    "\n",
    "for key, value in dict.items():\n",
    "    print(f\"The key is {key} and the values is {value}\")"
   ]
  },
  {
   "cell_type": "code",
   "execution_count": 14,
   "id": "51c1ff87-8ba2-4138-b094-94a990f6a8b9",
   "metadata": {},
   "outputs": [
    {
     "name": "stdout",
     "output_type": "stream",
     "text": [
      "{'a': 50, 'd': 44, 'e': 1, 'b': 44, 'c': 77}\n"
     ]
    }
   ],
   "source": [
    "xx = {'a':50, 'd':44, 'e':[1, {'b':44, 'c':77 }]}\n",
    "new_dict = {}\n",
    "for key, value in xx.items():\n",
    "    \n",
    "    if type(value) == list:\n",
    "        \n",
    "        the_dict = value[1]\n",
    "        new_dict[key] = value[0]\n",
    "        new_dict.update(the_dict)\n",
    "            \n",
    "            \n",
    "           \n",
    "    \n",
    "    elif type(value) == int:\n",
    "        new_dict[key] = value\n",
    "    \n",
    "print(new_dict)"
   ]
  },
  {
   "cell_type": "code",
   "execution_count": null,
   "id": "84c33f81-4c95-45bf-aa9b-1cd9841aa0db",
   "metadata": {},
   "outputs": [],
   "source": []
  }
 ],
 "metadata": {
  "kernelspec": {
   "display_name": "Python 3 (ipykernel)",
   "language": "python",
   "name": "python3"
  },
  "language_info": {
   "codemirror_mode": {
    "name": "ipython",
    "version": 3
   },
   "file_extension": ".py",
   "mimetype": "text/x-python",
   "name": "python",
   "nbconvert_exporter": "python",
   "pygments_lexer": "ipython3",
   "version": "3.8.16"
  }
 },
 "nbformat": 4,
 "nbformat_minor": 5
}
