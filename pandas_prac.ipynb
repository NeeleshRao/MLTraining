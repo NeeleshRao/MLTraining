{
 "cells": [
  {
   "cell_type": "code",
   "execution_count": 1,
   "id": "7d63fd0f-2176-40a1-a117-994d75cdb48a",
   "metadata": {},
   "outputs": [
    {
     "name": "stdout",
     "output_type": "stream",
     "text": [
      "1.5.3\n"
     ]
    }
   ],
   "source": [
    "import pandas as pd\n",
    "print(pd. __version__)"
   ]
  },
  {
   "cell_type": "code",
   "execution_count": 2,
   "id": "2c6165a7-9319-4523-b20e-abf14fe2569b",
   "metadata": {},
   "outputs": [
    {
     "name": "stdout",
     "output_type": "stream",
     "text": [
      "2\n"
     ]
    }
   ],
   "source": [
    "series = pd.Series([1, 2, 3, 4, 5, 6])\n",
    "print(series[1])"
   ]
  },
  {
   "cell_type": "code",
   "execution_count": 3,
   "id": "df1309a0-4abe-4325-bca0-375eba18af21",
   "metadata": {},
   "outputs": [
    {
     "name": "stdout",
     "output_type": "stream",
     "text": [
      "1\n"
     ]
    }
   ],
   "source": [
    "# We can reformat the index values\n",
    "series = pd.Series([1, 2, 3, 4, 5, 6], index=[1, 2, 3, 4, 5, 6])\n",
    "print(series[1])"
   ]
  },
  {
   "cell_type": "code",
   "execution_count": 4,
   "id": "61a9c466-8065-408c-8f4f-225c53595c16",
   "metadata": {},
   "outputs": [
    {
     "name": "stdout",
     "output_type": "stream",
     "text": [
      "a    1\n",
      "b    2\n",
      "c    3\n",
      "d    4\n",
      "e    5\n",
      "f    6\n",
      "Name: Numbers, dtype: int64\n",
      "3\n",
      "3\n"
     ]
    }
   ],
   "source": [
    "series = pd.Series([1, 2, 3, 4, 5, 6], index=['a', 'b', 'c', 'd', 'e', 'f'], name=\"Numbers\")\n",
    "\n",
    "print(series)\n",
    "print(series['c'])\n",
    "print(series[2])"
   ]
  },
  {
   "cell_type": "code",
   "execution_count": 5,
   "id": "7af6518b-33fc-42fa-a5aa-9aeec3b9a98e",
   "metadata": {},
   "outputs": [
    {
     "name": "stdout",
     "output_type": "stream",
     "text": [
      "a    1\n",
      "b    2\n",
      "c    3\n",
      "d    4\n",
      "e    5\n",
      "f    6\n",
      "Name: Numbers, dtype: int64\n"
     ]
    }
   ],
   "source": [
    "print(series)"
   ]
  },
  {
   "cell_type": "code",
   "execution_count": 6,
   "id": "a306654c-a825-4930-930f-cccd758da26f",
   "metadata": {},
   "outputs": [
    {
     "name": "stdout",
     "output_type": "stream",
     "text": [
      "a    0.5\n",
      "b    1.0\n",
      "c    1.5\n",
      "d    2.0\n",
      "e    2.5\n",
      "f    3.0\n",
      "Name: Numbers, dtype: float64\n"
     ]
    }
   ],
   "source": [
    "print(series/2)"
   ]
  },
  {
   "cell_type": "code",
   "execution_count": 7,
   "id": "105f2c42-b8e4-43c2-a773-b089b5b2b262",
   "metadata": {},
   "outputs": [
    {
     "name": "stdout",
     "output_type": "stream",
     "text": [
      "a     1\n",
      "b     4\n",
      "c     3\n",
      "d    16\n",
      "e     5\n",
      "f    36\n",
      "Name: Numbers, dtype: int64\n"
     ]
    }
   ],
   "source": [
    "# for i in series:\n",
    "#     if i%2 == 0:\n",
    "#         i = i/2\n",
    "#     else\n",
    "#     i = i**2 if i%2==0 else i\n",
    "\n",
    "# print(series)\n",
    "#apply can be used to apply a function to a series\n",
    "print(series.apply(lambda x: x if x%2==1 else x**2))"
   ]
  },
  {
   "cell_type": "code",
   "execution_count": 8,
   "id": "97bd6430-ef27-41cf-a268-b7d7acf8238e",
   "metadata": {},
   "outputs": [
    {
     "name": "stdout",
     "output_type": "stream",
     "text": [
      "(6,)\n",
      "1\n",
      "<bound method Series.info of a    1\n",
      "b    2\n",
      "c    3\n",
      "d    4\n",
      "e    5\n",
      "f    6\n",
      "Name: Numbers, dtype: int64>\n"
     ]
    }
   ],
   "source": [
    "print(series.shape)\n",
    "print(series.ndim)\n",
    "print(series.info)"
   ]
  },
  {
   "cell_type": "code",
   "execution_count": 9,
   "id": "61b25fe3-50f9-4632-9b48-647cee1a22d3",
   "metadata": {},
   "outputs": [
    {
     "name": "stdout",
     "output_type": "stream",
     "text": [
      "<class 'pandas.core.series.Series'>\n",
      "Index: 6 entries, a to f\n",
      "Series name: Numbers\n",
      "Non-Null Count  Dtype  \n",
      "--------------  -----  \n",
      "5 non-null      float64\n",
      "dtypes: float64(1)\n",
      "memory usage: 268.0+ bytes\n",
      "None\n"
     ]
    }
   ],
   "source": [
    "import numpy as np\n",
    "\n",
    "series['b'] = np.NaN\n",
    "print(series.info())"
   ]
  },
  {
   "cell_type": "code",
   "execution_count": 10,
   "id": "2c0e02f0-27d3-4c17-8974-a03483fa870b",
   "metadata": {},
   "outputs": [
    {
     "name": "stdout",
     "output_type": "stream",
     "text": [
      "a    1.0\n",
      "b    NaN\n",
      "c    3.0\n",
      "d    4.0\n",
      "e    5.0\n",
      "Name: Numbers, dtype: float64\n"
     ]
    }
   ],
   "source": [
    "# head prints the first n values as specified in argument\n",
    "print(series.head(5))\n",
    "# tail can also be used"
   ]
  },
  {
   "cell_type": "code",
   "execution_count": 12,
   "id": "7778d4d7-db21-4083-92eb-ed7ba4128f66",
   "metadata": {},
   "outputs": [
    {
     "name": "stdout",
     "output_type": "stream",
     "text": [
      "   a  b  c\n",
      "d  1  2  3\n",
      "e  4  5  6\n",
      "f  7  8  9\n"
     ]
    }
   ],
   "source": [
    "#index is to rename the rows, columns to rename the columns\n",
    "df = pd.DataFrame([[1, 2, 3], \n",
    "                   [4, 5, 6], \n",
    "                   [7, 8, 9]], index=['d', 'e', 'f'], columns=['a', 'b', 'c'])\n",
    "print(df)"
   ]
  },
  {
   "cell_type": "code",
   "execution_count": 13,
   "id": "e3caed8d-4194-474f-889b-0d200054f6e2",
   "metadata": {},
   "outputs": [
    {
     "name": "stdout",
     "output_type": "stream",
     "text": [
      "d    1\n",
      "e    4\n",
      "f    7\n",
      "Name: a, dtype: int64\n"
     ]
    }
   ],
   "source": [
    "# This also gives a pandas series object\n",
    "# A dataframe is a combination of multiple series\n",
    "print(df['a'])"
   ]
  },
  {
   "cell_type": "code",
   "execution_count": 14,
   "id": "669f5590-b6d0-4a77-bf75-a8eba35e9d41",
   "metadata": {},
   "outputs": [
    {
     "name": "stdout",
     "output_type": "stream",
     "text": [
      "   a  b  c\n",
      "e  4  5  6\n"
     ]
    }
   ],
   "source": [
    "#This is the incorrect logic\n",
    "# print(df[::]['e'])\n",
    "print(df[1:2])"
   ]
  },
  {
   "cell_type": "code",
   "execution_count": 15,
   "id": "9abe8311-5c77-46b5-9138-1e995df21bcf",
   "metadata": {},
   "outputs": [
    {
     "name": "stdout",
     "output_type": "stream",
     "text": [
      "   a  b  c\n",
      "e  4  5  6\n",
      "   b  c\n",
      "e  5  6\n",
      "f  8  9\n"
     ]
    }
   ],
   "source": [
    "# Accessing the first row, iloc similar to numpy slicing\n",
    "print(df.iloc[1:2, :])\n",
    "print(df.iloc[1:3, 1:])"
   ]
  },
  {
   "cell_type": "code",
   "execution_count": 16,
   "id": "0df1a8d9-cd6f-41d3-8c1c-11d425d6642f",
   "metadata": {},
   "outputs": [
    {
     "name": "stdout",
     "output_type": "stream",
     "text": [
      "   b  c\n",
      "e  5  6\n",
      "f  8  9\n"
     ]
    }
   ],
   "source": [
    "# in case of loc, we supply the indexes specified like alphabets\n",
    "print(df.loc['e':'f', 'b':'c'])"
   ]
  },
  {
   "cell_type": "code",
   "execution_count": 17,
   "id": "d8bd1a1b-f8f0-4d31-9680-be198e6de852",
   "metadata": {},
   "outputs": [
    {
     "name": "stdout",
     "output_type": "stream",
     "text": [
      "<class 'pandas.core.frame.DataFrame'>\n",
      "Index: 3 entries, d to f\n",
      "Data columns (total 3 columns):\n",
      " #   Column  Non-Null Count  Dtype\n",
      "---  ------  --------------  -----\n",
      " 0   a       3 non-null      int64\n",
      " 1   b       3 non-null      int64\n",
      " 2   c       3 non-null      int64\n",
      "dtypes: int64(3)\n",
      "memory usage: 204.0+ bytes\n",
      "None\n"
     ]
    }
   ],
   "source": [
    "print(df.info())"
   ]
  },
  {
   "cell_type": "code",
   "execution_count": 18,
   "id": "c1b262bf-74c9-4a20-ac64-14611dbafcbf",
   "metadata": {},
   "outputs": [
    {
     "name": "stdout",
     "output_type": "stream",
     "text": [
      "   a  b  c\n",
      "d  1  2  3\n",
      "e  4  5  6\n",
      "f  7  8  9\n"
     ]
    }
   ],
   "source": [
    "#creating dataframe using dictionary\n",
    "#keys are column names\n",
    "\n",
    "df1 = pd.DataFrame({'a':[1, 4, 7], 'b':[2, 5, 8], 'c':[3, 6, 9]}, index=['d', 'e', 'f'])\n",
    "print(df1)\n",
    "\n"
   ]
  },
  {
   "cell_type": "code",
   "execution_count": 19,
   "id": "a41b36e8-e8ed-4ffc-ba9d-d0986bd216ec",
   "metadata": {},
   "outputs": [
    {
     "name": "stdout",
     "output_type": "stream",
     "text": [
      "   a  b  c  Square\n",
      "d  1  2  3       9\n",
      "e  4  5  6      36\n",
      "f  7  8  9      81\n"
     ]
    }
   ],
   "source": [
    "df1['Square'] = df1['c'] ** 2\n",
    "print(df1)"
   ]
  },
  {
   "cell_type": "code",
   "execution_count": 20,
   "id": "0ee4663c-1ffd-4d3b-9870-c68be599d2cf",
   "metadata": {},
   "outputs": [
    {
     "name": "stdout",
     "output_type": "stream",
     "text": [
      "   a  b  c  Square  Sum\n",
      "d  1  2  3       9    6\n",
      "e  4  5  6      36   15\n",
      "f  7  8  9      81   24\n"
     ]
    }
   ],
   "source": [
    "\n",
    "\n",
    "df1['Sum'] = df1['a'] + df1['b'] + df1['c']\n",
    "print(df1)"
   ]
  },
  {
   "cell_type": "code",
   "execution_count": 21,
   "id": "ee4b5827-fca1-4280-9e7c-3216b9427fe7",
   "metadata": {},
   "outputs": [],
   "source": [
    "#saving the dataframes into different formats\n",
    "# index=false will remove the index while saving in csv\n",
    "#index_label='index' to give a name to the index columns\n",
    "df1.to_csv('data.csv', index_label='index')"
   ]
  },
  {
   "cell_type": "code",
   "execution_count": 22,
   "id": "15550438-8b12-4968-ac8e-777a6f11a092",
   "metadata": {},
   "outputs": [
    {
     "name": "stdout",
     "output_type": "stream",
     "text": [
      "       a  b  c  Square  Sum\n",
      "index                      \n",
      "d      1  2  3       9    6\n",
      "e      4  5  6      36   15\n",
      "f      7  8  9      81   24\n"
     ]
    }
   ],
   "source": [
    "# set index_col as 0 inorder to view it as original\n",
    "#basically index_col = 0 sets the 0th column as the index column, if we set as 1, it uses the \n",
    "#first column as index\n",
    "df2 = pd.read_csv('data.csv', index_col='index')\n",
    "print(df2)"
   ]
  },
  {
   "cell_type": "code",
   "execution_count": 25,
   "id": "8635290c-8f6b-4bfc-b697-dea92d309563",
   "metadata": {},
   "outputs": [
    {
     "name": "stdout",
     "output_type": "stream",
     "text": [
      "          experience_level employment_type                       job_title  \\\n",
      "work_year                                                                    \n",
      "2023                    SE              FT        Principal Data Scientist   \n",
      "2023                    MI              CT                     ML Engineer   \n",
      "2023                    MI              CT                     ML Engineer   \n",
      "2023                    SE              FT                  Data Scientist   \n",
      "2023                    SE              FT                  Data Scientist   \n",
      "2023                    SE              FT               Applied Scientist   \n",
      "2023                    SE              FT               Applied Scientist   \n",
      "2023                    SE              FT                  Data Scientist   \n",
      "2023                    SE              FT                  Data Scientist   \n",
      "2023                    SE              FT                  Data Scientist   \n",
      "2023                    SE              FT                  Data Scientist   \n",
      "2023                    SE              FT                    Data Analyst   \n",
      "2023                    SE              FT                    Data Analyst   \n",
      "2023                    EN              FT               Applied Scientist   \n",
      "2023                    EN              FT               Applied Scientist   \n",
      "2023                    SE              FT                    Data Modeler   \n",
      "2023                    SE              FT                    Data Modeler   \n",
      "2023                    SE              FT                  Data Scientist   \n",
      "2023                    SE              FT                  Data Scientist   \n",
      "2023                    MI              FT                    Data Analyst   \n",
      "2023                    MI              FT                    Data Analyst   \n",
      "2023                    SE              FT               Research Engineer   \n",
      "2023                    SE              FT               Research Engineer   \n",
      "2023                    SE              FT              Analytics Engineer   \n",
      "2023                    SE              FT              Analytics Engineer   \n",
      "2023                    SE              FT  Business Intelligence Engineer   \n",
      "2023                    SE              FT  Business Intelligence Engineer   \n",
      "2023                    SE              FT       Machine Learning Engineer   \n",
      "2023                    SE              FT       Machine Learning Engineer   \n",
      "2023                    SE              FT                 Data Strategist   \n",
      "\n",
      "           salary salary_currency  salary_in_usd employee_residence  \\\n",
      "work_year                                                             \n",
      "2023        80000             EUR          85847                 ES   \n",
      "2023        30000             USD          30000                 US   \n",
      "2023        25500             USD          25500                 US   \n",
      "2023       175000             USD         175000                 CA   \n",
      "2023       120000             USD         120000                 CA   \n",
      "2023       222200             USD         222200                 US   \n",
      "2023       136000             USD         136000                 US   \n",
      "2023       219000             USD         219000                 CA   \n",
      "2023       141000             USD         141000                 CA   \n",
      "2023       147100             USD         147100                 US   \n",
      "2023        90700             USD          90700                 US   \n",
      "2023       130000             USD         130000                 US   \n",
      "2023       100000             USD         100000                 US   \n",
      "2023       213660             USD         213660                 US   \n",
      "2023       130760             USD         130760                 US   \n",
      "2023       147100             USD         147100                 US   \n",
      "2023        90700             USD          90700                 US   \n",
      "2023       170000             USD         170000                 US   \n",
      "2023       150000             USD         150000                 US   \n",
      "2023       150000             USD         150000                 US   \n",
      "2023       110000             USD         110000                 US   \n",
      "2023       275000             USD         275000                 DE   \n",
      "2023       174000             USD         174000                 DE   \n",
      "2023       230000             USD         230000                 GB   \n",
      "2023       143200             USD         143200                 GB   \n",
      "2023       225000             USD         225000                 US   \n",
      "2023       156400             USD         156400                 US   \n",
      "2023       200000             USD         200000                 US   \n",
      "2023       130000             USD         130000                 US   \n",
      "2023        90000             USD          90000                 CA   \n",
      "\n",
      "           remote_ratio company_location company_size  \n",
      "work_year                                              \n",
      "2023                100               ES            L  \n",
      "2023                100               US            S  \n",
      "2023                100               US            S  \n",
      "2023                100               CA            M  \n",
      "2023                100               CA            M  \n",
      "2023                  0               US            L  \n",
      "2023                  0               US            L  \n",
      "2023                  0               CA            M  \n",
      "2023                  0               CA            M  \n",
      "2023                  0               US            M  \n",
      "2023                  0               US            M  \n",
      "2023                100               US            M  \n",
      "2023                100               US            M  \n",
      "2023                  0               US            L  \n",
      "2023                  0               US            L  \n",
      "2023                  0               US            M  \n",
      "2023                  0               US            M  \n",
      "2023                  0               US            M  \n",
      "2023                  0               US            M  \n",
      "2023                100               US            M  \n",
      "2023                100               US            M  \n",
      "2023                  0               DE            M  \n",
      "2023                  0               DE            M  \n",
      "2023                100               GB            M  \n",
      "2023                100               GB            M  \n",
      "2023                  0               US            M  \n",
      "2023                  0               US            M  \n",
      "2023                  0               US            M  \n",
      "2023                  0               US            M  \n",
      "2023                  0               CA            M  \n"
     ]
    }
   ],
   "source": [
    "df2 = pd.read_csv('ds_salaries.csv', index_col=0)\n",
    "print(df2[0:30])"
   ]
  },
  {
   "cell_type": "code",
   "execution_count": null,
   "id": "2e9bed7c-c0f5-4cfc-bcee-a169a37ea543",
   "metadata": {},
   "outputs": [],
   "source": []
  }
 ],
 "metadata": {
  "kernelspec": {
   "display_name": "Python 3 (ipykernel)",
   "language": "python",
   "name": "python3"
  },
  "language_info": {
   "codemirror_mode": {
    "name": "ipython",
    "version": 3
   },
   "file_extension": ".py",
   "mimetype": "text/x-python",
   "name": "python",
   "nbconvert_exporter": "python",
   "pygments_lexer": "ipython3",
   "version": "3.8.16"
  }
 },
 "nbformat": 4,
 "nbformat_minor": 5
}
