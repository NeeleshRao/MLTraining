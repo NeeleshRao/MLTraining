{
 "cells": [
  {
   "cell_type": "code",
   "execution_count": 2,
   "id": "453f6b0f-5b0d-4439-a319-ab70f7230791",
   "metadata": {},
   "outputs": [],
   "source": [
    "import numpy as np"
   ]
  },
  {
   "cell_type": "code",
   "execution_count": 13,
   "id": "660da34d-74c9-4554-ad2f-b49feeff6ecb",
   "metadata": {},
   "outputs": [
    {
     "name": "stdout",
     "output_type": "stream",
     "text": [
      "[1. 2. 3. 4. 5. 6.]\n"
     ]
    }
   ],
   "source": [
    "array = np.array([1, 2, 3, 4, 5, 6], dtype=float)\n",
    "print(array)"
   ]
  },
  {
   "cell_type": "code",
   "execution_count": 14,
   "id": "578e9cc8-830a-4f2b-9172-25add345c7be",
   "metadata": {},
   "outputs": [
    {
     "name": "stdout",
     "output_type": "stream",
     "text": [
      "1\n",
      "float64\n"
     ]
    }
   ],
   "source": [
    "# number of dimensions\n",
    "print(array.ndim)\n",
    "\n",
    "#type of data in array\n",
    "print(array.dtype)"
   ]
  },
  {
   "cell_type": "code",
   "execution_count": 15,
   "id": "58956ed9-d8c0-49d0-bebb-c98814b54c13",
   "metadata": {},
   "outputs": [
    {
     "name": "stdout",
     "output_type": "stream",
     "text": [
      "3.5\n"
     ]
    }
   ],
   "source": [
    "print(array.mean())"
   ]
  },
  {
   "cell_type": "code",
   "execution_count": 17,
   "id": "9bcdaeac-f668-4ef9-86ad-29f31e5bf234",
   "metadata": {},
   "outputs": [
    {
     "name": "stdout",
     "output_type": "stream",
     "text": [
      "[[1 2 3 4 5 6]]\n",
      "2\n",
      "(1, 6)\n"
     ]
    },
    {
     "data": {
      "text/plain": [
       "array([[1, 2],\n",
       "       [3, 4],\n",
       "       [5, 6]])"
      ]
     },
     "execution_count": 17,
     "metadata": {},
     "output_type": "execute_result"
    }
   ],
   "source": [
    "arr2 = np.array([[1, 2, 3, 4, 5, 6]])\n",
    "print(arr2)\n",
    "print(arr2.ndim)\n",
    "print(arr2.shape)\n",
    "arr2.reshape(3, 2)\n",
    "\n"
   ]
  },
  {
   "cell_type": "code",
   "execution_count": 19,
   "id": "c47cbabd-9244-4ac2-a976-ba221df9a0c5",
   "metadata": {},
   "outputs": [
    {
     "name": "stdout",
     "output_type": "stream",
     "text": [
      "[[1 2]\n",
      " [3 4]\n",
      " [5 6]]\n"
     ]
    }
   ],
   "source": [
    "arr2 = np.array([[1, 2], [3, 4], [5, 6]])\n",
    "print(arr2)"
   ]
  },
  {
   "cell_type": "code",
   "execution_count": 23,
   "id": "b6e88508-bc69-4ee0-ba4f-714d2a08932a",
   "metadata": {},
   "outputs": [
    {
     "name": "stdout",
     "output_type": "stream",
     "text": [
      "[[[1 2]\n",
      "  [3 4]\n",
      "  [5 6]]]\n",
      "3\n",
      "(1, 3, 2)\n"
     ]
    }
   ],
   "source": [
    "arr3 = np.array([[[1, 2], [3, 4], [5, 6]]])\n",
    "print(arr3)\n",
    "print(arr3.ndim)\n",
    "print(arr3.shape)"
   ]
  },
  {
   "cell_type": "code",
   "execution_count": 31,
   "id": "19ba56dc-1037-478c-afc4-83b562f59155",
   "metadata": {},
   "outputs": [
    {
     "name": "stdout",
     "output_type": "stream",
     "text": [
      "(3, 5, 3, 4, 5)\n"
     ]
    }
   ],
   "source": [
    "arr3d = np.array([[[[[1, 2, 3, 4, 5], [2, 3, 4, 5, 6], [3, 4, 5, 6, 7], [4, 5, 6, 7, 8]], \n",
    "                 [[1, 2, 3, 4, 5], [2, 3, 4, 5, 6], [3, 4, 5, 6, 7], [4, 5, 6, 7, 8]], \n",
    "                 [[1, 2, 3, 4, 5], [2, 3, 4, 5, 6], [3, 4, 5, 6, 7], [4, 5, 6, 7, 8]]],                  \n",
    "                 [[[1, 2, 3, 4, 5], [2, 3, 4, 5, 6], [3, 4, 5, 6, 7], [4, 5, 6, 7, 8]], \n",
    "                 [[1, 2, 3, 4, 5], [2, 3, 4, 5, 6], [3, 4, 5, 6, 7], [4, 5, 6, 7, 8]], \n",
    "                 [[1, 2, 3, 4, 5], [2, 3, 4, 5, 6], [3, 4, 5, 6, 7], [4, 5, 6, 7, 8]]],                  \n",
    "                 [[[1, 2, 3, 4, 5], [2, 3, 4, 5, 6], [3, 4, 5, 6, 7], [4, 5, 6, 7, 8]], \n",
    "                 [[1, 2, 3, 4, 5], [2, 3, 4, 5, 6], [3, 4, 5, 6, 7], [4, 5, 6, 7, 8]], \n",
    "                 [[1, 2, 3, 4, 5], [2, 3, 4, 5, 6], [3, 4, 5, 6, 7], [4, 5, 6, 7, 8]]],                 \n",
    "                 [[[1, 2, 3, 4, 5], [2, 3, 4, 5, 6], [3, 4, 5, 6, 7], [4, 5, 6, 7, 8]], \n",
    "                 [[1, 2, 3, 4, 5], [2, 3, 4, 5, 6], [3, 4, 5, 6, 7], [4, 5, 6, 7, 8]], \n",
    "                 [[1, 2, 3, 4, 5], [2, 3, 4, 5, 6], [3, 4, 5, 6, 7], [4, 5, 6, 7, 8]]],                 \n",
    "                 [[[1, 2, 3, 4, 5], [2, 3, 4, 5, 6], [3, 4, 5, 6, 7], [4, 5, 6, 7, 8]], \n",
    "                 [[1, 2, 3, 4, 5], [2, 3, 4, 5, 6], [3, 4, 5, 6, 7], [4, 5, 6, 7, 8]], \n",
    "                 [[1, 2, 3, 4, 5], [2, 3, 4, 5, 6], [3, 4, 5, 6, 7], [4, 5, 6, 7, 8]]]],                 \n",
    "                 [[[[1, 2, 3, 4, 5], [2, 3, 4, 5, 6], [3, 4, 5, 6, 7], [4, 5, 6, 7, 8]], \n",
    "                 [[1, 2, 3, 4, 5], [2, 3, 4, 5, 6], [3, 4, 5, 6, 7], [4, 5, 6, 7, 8]], \n",
    "                 [[1, 2, 3, 4, 5], [2, 3, 4, 5, 6], [3, 4, 5, 6, 7], [4, 5, 6, 7, 8]]],                 \n",
    "                 [[[1, 2, 3, 4, 5], [2, 3, 4, 5, 6], [3, 4, 5, 6, 7], [4, 5, 6, 7, 8]], \n",
    "                 [[1, 2, 3, 4, 5], [2, 3, 4, 5, 6], [3, 4, 5, 6, 7], [4, 5, 6, 7, 8]], \n",
    "                 [[1, 2, 3, 4, 5], [2, 3, 4, 5, 6], [3, 4, 5, 6, 7], [4, 5, 6, 7, 8]]],                 \n",
    "                 [[[1, 2, 3, 4, 5], [2, 3, 4, 5, 6], [3, 4, 5, 6, 7], [4, 5, 6, 7, 8]], \n",
    "                 [[1, 2, 3, 4, 5], [2, 3, 4, 5, 6], [3, 4, 5, 6, 7], [4, 5, 6, 7, 8]], \n",
    "                 [[1, 2, 3, 4, 5], [2, 3, 4, 5, 6], [3, 4, 5, 6, 7], [4, 5, 6, 7, 8]]],                  \n",
    "                 [[[1, 2, 3, 4, 5], [2, 3, 4, 5, 6], [3, 4, 5, 6, 7], [4, 5, 6, 7, 8]], \n",
    "                 [[1, 2, 3, 4, 5], [2, 3, 4, 5, 6], [3, 4, 5, 6, 7], [4, 5, 6, 7, 8]], \n",
    "                 [[1, 2, 3, 4, 5], [2, 3, 4, 5, 6], [3, 4, 5, 6, 7], [4, 5, 6, 7, 8]]],                  \n",
    "                 [[[1, 2, 3, 4, 5], [2, 3, 4, 5, 6], [3, 4, 5, 6, 7], [4, 5, 6, 7, 8]], \n",
    "                 [[1, 2, 3, 4, 5], [2, 3, 4, 5, 6], [3, 4, 5, 6, 7], [4, 5, 6, 7, 8]], \n",
    "                 [[1, 2, 3, 4, 5], [2, 3, 4, 5, 6], [3, 4, 5, 6, 7], [4, 5, 6, 7, 8]]]],                  \n",
    "                 [[[[1, 2, 3, 4, 5], [2, 3, 4, 5, 6], [3, 4, 5, 6, 7], [4, 5, 6, 7, 8]], \n",
    "                 [[1, 2, 3, 4, 5], [2, 3, 4, 5, 6], [3, 4, 5, 6, 7], [4, 5, 6, 7, 8]], \n",
    "                 [[1, 2, 3, 4, 5], [2, 3, 4, 5, 6], [3, 4, 5, 6, 7], [4, 5, 6, 7, 8]]],                 \n",
    "                 [[[1, 2, 3, 4, 5], [2, 3, 4, 5, 6], [3, 4, 5, 6, 7], [4, 5, 6, 7, 8]], \n",
    "                 [[1, 2, 3, 4, 5], [2, 3, 4, 5, 6], [3, 4, 5, 6, 7], [4, 5, 6, 7, 8]], \n",
    "                 [[1, 2, 3, 4, 5], [2, 3, 4, 5, 6], [3, 4, 5, 6, 7], [4, 5, 6, 7, 8]]],                 \n",
    "                 [[[1, 2, 3, 4, 5], [2, 3, 4, 5, 6], [3, 4, 5, 6, 7], [4, 5, 6, 7, 8]], \n",
    "                 [[1, 2, 3, 4, 5], [2, 3, 4, 5, 6], [3, 4, 5, 6, 7], [4, 5, 6, 7, 8]], \n",
    "                 [[1, 2, 3, 4, 5], [2, 3, 4, 5, 6], [3, 4, 5, 6, 7], [4, 5, 6, 7, 8]]],                  \n",
    "                 [[[1, 2, 3, 4, 5], [2, 3, 4, 5, 6], [3, 4, 5, 6, 7], [4, 5, 6, 7, 8]], \n",
    "                 [[1, 2, 3, 4, 5], [2, 3, 4, 5, 6], [3, 4, 5, 6, 7], [4, 5, 6, 7, 8]], \n",
    "                 [[1, 2, 3, 4, 5], [2, 3, 4, 5, 6], [3, 4, 5, 6, 7], [4, 5, 6, 7, 8]]],                 \n",
    "                 [[[1, 2, 3, 4, 5], [2, 3, 4, 5, 6], [3, 4, 5, 6, 7], [4, 5, 6, 7, 8]], \n",
    "                 [[1, 2, 3, 4, 5], [2, 3, 4, 5, 6], [3, 4, 5, 6, 7], [4, 5, 6, 7, 8]], \n",
    "                 [[1, 2, 3, 4, 5], [2, 3, 4, 5, 6], [3, 4, 5, 6, 7], [4, 5, 6, 7, 8]]]]])\n",
    "print(arr3d.shape)"
   ]
  },
  {
   "cell_type": "code",
   "execution_count": 40,
   "id": "1fefe591-5471-4141-be5b-0981ed34a594",
   "metadata": {},
   "outputs": [
    {
     "name": "stdout",
     "output_type": "stream",
     "text": [
      "[[ 1  3  5  7  9]\n",
      " [11 13 15 17 19]\n",
      " [21 23 25 27 29]\n",
      " [31 33 35 37 39]\n",
      " [41 43 45 47 49]\n",
      " [51 53 55 57 59]\n",
      " [61 63 65 67 69]\n",
      " [71 73 75 77 79]\n",
      " [81 83 85 87 89]\n",
      " [91 93 95 97 99]]\n"
     ]
    }
   ],
   "source": [
    "arr = np.arange(1, 100, 2)\n",
    "print(arr.reshape((10, 5)))"
   ]
  },
  {
   "cell_type": "code",
   "execution_count": 43,
   "id": "d2ad344d-5d09-42b3-a9ed-1743532e3151",
   "metadata": {},
   "outputs": [
    {
     "name": "stdout",
     "output_type": "stream",
     "text": [
      "[[1 0 0]\n",
      " [0 1 0]\n",
      " [0 0 1]]\n"
     ]
    }
   ],
   "source": [
    "# Identity matrix\n",
    "arr = np.eye((3), dtype=int)\n",
    "print(arr)"
   ]
  },
  {
   "cell_type": "code",
   "execution_count": 46,
   "id": "fca894cd-afcc-46d8-ac6e-908a0758872e",
   "metadata": {},
   "outputs": [
    {
     "name": "stdout",
     "output_type": "stream",
     "text": [
      "[[1. 1. 1. 1.]\n",
      " [1. 1. 1. 1.]\n",
      " [1. 1. 1. 1.]\n",
      " [1. 1. 1. 1.]]\n",
      "(4, 4)\n"
     ]
    }
   ],
   "source": [
    "# Matrix filled with ones\n",
    "one = np.ones((4, 4))\n",
    "print(one)\n",
    "print(one.shape)"
   ]
  },
  {
   "cell_type": "code",
   "execution_count": 47,
   "id": "7b174b13-e239-4937-930d-c25a4328b523",
   "metadata": {},
   "outputs": [
    {
     "name": "stdout",
     "output_type": "stream",
     "text": [
      "[[0. 0. 0. 0. 0.]\n",
      " [0. 0. 0. 0. 0.]\n",
      " [0. 0. 0. 0. 0.]\n",
      " [0. 0. 0. 0. 0.]\n",
      " [0. 0. 0. 0. 0.]]\n"
     ]
    }
   ],
   "source": [
    "#matrix filled with zeroes\n",
    "zero = np.zeros((5, 5))\n",
    "print(zero)"
   ]
  },
  {
   "cell_type": "code",
   "execution_count": 55,
   "id": "3bf6fffe-cdb4-431f-af2d-a57139776a5b",
   "metadata": {},
   "outputs": [
    {
     "name": "stdout",
     "output_type": "stream",
     "text": [
      "None\n",
      "[[7. 7. 7. 7. 7.]\n",
      " [7. 7. 7. 7. 7.]\n",
      " [7. 7. 7. 7. 7.]\n",
      " [7. 7. 7. 7. 7.]\n",
      " [7. 7. 7. 7. 7.]]\n"
     ]
    }
   ],
   "source": [
    "# to fill the array with a particular value\n",
    "# the array has to be already created\n",
    "# default type float\n",
    "print(zero.fill(7))\n",
    "print(zero)"
   ]
  },
  {
   "cell_type": "code",
   "execution_count": 56,
   "id": "12d7b067-d716-43d5-8af2-e299e6bd79ef",
   "metadata": {},
   "outputs": [
    {
     "name": "stdout",
     "output_type": "stream",
     "text": [
      "[[5 5 5 5 5]\n",
      " [5 5 5 5 5]\n",
      " [5 5 5 5 5]\n",
      " [5 5 5 5 5]\n",
      " [5 5 5 5 5]]\n"
     ]
    }
   ],
   "source": [
    "# to initialize a array with value at creation\n",
    "# default int datatype\n",
    "five = np.full((5, 5), 5)\n",
    "print(five)"
   ]
  },
  {
   "cell_type": "code",
   "execution_count": 8,
   "id": "83b1cdb4-f372-4864-8062-8cef5aa76f46",
   "metadata": {},
   "outputs": [
    {
     "name": "stdout",
     "output_type": "stream",
     "text": [
      "[[ 1  2  3  4  5  6]\n",
      " [ 7  8  9 10 11 12]\n",
      " [13 14 15 16 17 18]\n",
      " [19 20 21 22 23 24]\n",
      " [25 26 27 28 29 30]]\n",
      "(5, 6)\n",
      "[10 11]\n",
      "[10 16]\n"
     ]
    }
   ],
   "source": [
    "arr = np.arange(1, 31).reshape((5, 6))\n",
    "print(arr)\n",
    "print(arr.shape)\n",
    "print(arr[1, 3: 5])\n",
    "# the first argument is slicing of rows, second is slicing of columns\n",
    "print(arr[1:3, 3])\n"
   ]
  },
  {
   "cell_type": "code",
   "execution_count": 10,
   "id": "01aafdd9-6f80-4a16-92f2-080a74c47595",
   "metadata": {},
   "outputs": [
    {
     "name": "stdout",
     "output_type": "stream",
     "text": [
      "[[ 1  7 13 19 25]\n",
      " [ 2  8 14 20 26]\n",
      " [ 3  9 15 21 27]\n",
      " [ 4 10 16 22 28]\n",
      " [ 5 11 17 23 29]\n",
      " [ 6 12 18 24 30]]\n",
      "(6, 5)\n"
     ]
    }
   ],
   "source": [
    "print(arr.T)\n",
    "print(arr.T.shape)"
   ]
  },
  {
   "cell_type": "code",
   "execution_count": 11,
   "id": "65173e41-eb7f-44d7-8b8b-585fbc46d4bf",
   "metadata": {},
   "outputs": [
    {
     "name": "stdout",
     "output_type": "stream",
     "text": [
      "[[42 37]\n",
      " [59 52]\n",
      " [76 67]]\n"
     ]
    }
   ],
   "source": [
    "arr1 = np.array([[2, 3], [3, 4], [4, 5]])\n",
    "arr2 = np.array([[9, 8], [8, 7]])\n",
    "\n",
    "out = np.dot(arr1, arr2)\n",
    "print(out)"
   ]
  },
  {
   "cell_type": "code",
   "execution_count": 12,
   "id": "0f1d6460-b32c-43cd-83c3-defc084ba7ea",
   "metadata": {},
   "outputs": [],
   "source": [
    "# to save the array as a text file\n",
    "np.savetxt(\"out_mul_dot.txt\", out)"
   ]
  },
  {
   "cell_type": "code",
   "execution_count": 14,
   "id": "35515728-1d3d-4078-93d1-ac1a71df930e",
   "metadata": {},
   "outputs": [
    {
     "name": "stdout",
     "output_type": "stream",
     "text": [
      "[[42. 37.]\n",
      " [59. 52.]\n",
      " [76. 67.]]\n"
     ]
    }
   ],
   "source": [
    "data_read = np.loadtxt(\"out_mul_dot.txt\")\n",
    "print(data_read)"
   ]
  },
  {
   "cell_type": "code",
   "execution_count": 19,
   "id": "0acbb59b-2ebf-4956-8146-77531ed069c0",
   "metadata": {},
   "outputs": [
    {
     "data": {
      "text/plain": [
       "array([[2, 3],\n",
       "       [3, 4],\n",
       "       [4, 5],\n",
       "       [9, 8],\n",
       "       [8, 7]])"
      ]
     },
     "execution_count": 19,
     "metadata": {},
     "output_type": "execute_result"
    }
   ],
   "source": [
    "# to join the data from matrices\n",
    "# we can concatenate multiple arrays\n",
    "np.concatenate((arr1, arr2), axis=0)"
   ]
  },
  {
   "cell_type": "code",
   "execution_count": 22,
   "id": "262e6c69-9fc2-4299-adf1-c0cb0826e205",
   "metadata": {},
   "outputs": [
    {
     "data": {
      "text/plain": [
       "array([[2, 3, 4, 9, 8],\n",
       "       [3, 4, 5, 8, 7]])"
      ]
     },
     "execution_count": 22,
     "metadata": {},
     "output_type": "execute_result"
    }
   ],
   "source": [
    "# Axis = 1 means column wise combination\n",
    "np.concatenate((arr1.T, arr2), axis = 1)"
   ]
  },
  {
   "cell_type": "code",
   "execution_count": 23,
   "id": "3d431861-c910-42a7-ade0-3b25c1b74db6",
   "metadata": {},
   "outputs": [
    {
     "name": "stdout",
     "output_type": "stream",
     "text": [
      "[[9 8]\n",
      " [8 7]\n",
      " [4 3]]\n"
     ]
    }
   ],
   "source": [
    "print(np.append(arr2, [[4, 3]], axis = 0))"
   ]
  },
  {
   "cell_type": "code",
   "execution_count": null,
   "id": "d86dddd0-fb4c-476d-9e2b-e1db378e3344",
   "metadata": {},
   "outputs": [],
   "source": []
  }
 ],
 "metadata": {
  "kernelspec": {
   "display_name": "Python 3 (ipykernel)",
   "language": "python",
   "name": "python3"
  },
  "language_info": {
   "codemirror_mode": {
    "name": "ipython",
    "version": 3
   },
   "file_extension": ".py",
   "mimetype": "text/x-python",
   "name": "python",
   "nbconvert_exporter": "python",
   "pygments_lexer": "ipython3",
   "version": "3.8.16"
  }
 },
 "nbformat": 4,
 "nbformat_minor": 5
}
